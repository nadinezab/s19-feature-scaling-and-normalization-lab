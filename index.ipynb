{
 "cells": [
  {
   "cell_type": "markdown",
   "metadata": {},
   "source": [
    "## Feature Scaling and Normalization - Lab"
   ]
  },
  {
   "cell_type": "markdown",
   "metadata": {},
   "source": [
    "## Introduction\n",
    "In this lab, you'll practice your feature scaling and normalization skills!"
   ]
  },
  {
   "cell_type": "markdown",
   "metadata": {},
   "source": [
    "## Objectives\n",
    "You will be able to:\n",
    "* Identify if it is necessary to perform log transformations on a set of features\n",
    "* Perform log transformations on different features of a dataset\n",
    "* Determine if it is necessary to perform normalization/standardization for a specific model or set of data\n",
    "* Compare the different standardization and normalization techniques\n",
    "* Use standardization/normalization on features of a dataset"
   ]
  },
  {
   "cell_type": "markdown",
   "metadata": {},
   "source": [
    "## Back to our Boston Housing data"
   ]
  },
  {
   "cell_type": "markdown",
   "metadata": {},
   "source": [
    "Let's import our Boston Housing data. Remember we categorized two variables (`'RAD'` and `'TAX'`) and deleted the `'NOX'` (nitride oxide concentration) variable because it was highly correlated with two other features."
   ]
  },
  {
   "cell_type": "code",
   "execution_count": 5,
   "metadata": {},
   "outputs": [],
   "source": [
    "import pandas as pd\n",
    "import matplotlib.pyplot as plt\n",
    "%matplotlib inline\n",
    "from sklearn.datasets import load_boston\n",
    "boston = load_boston()\n",
    "\n",
    "boston_features = pd.DataFrame(boston.data, columns = boston.feature_names)\n",
    "\n",
    "# First, create bins for RAD based on the values observed. 5 values will result in 4 bins\n",
    "bins = [0, 3, 4 , 5, 24]\n",
    "bins_rad = pd.cut(boston_features['RAD'], bins)\n",
    "bins_rad = bins_rad.cat.as_unordered()\n",
    "\n",
    "# First, create bins for TAX based on the values observed. 6 values will result in 5 bins\n",
    "bins = [0, 250, 300, 360, 460, 712]\n",
    "bins_tax = pd.cut(boston_features['TAX'], bins)\n",
    "bins_tax = bins_tax.cat.as_unordered()\n",
    "\n",
    "tax_dummy = pd.get_dummies(bins_tax, prefix='TAX', drop_first=True)\n",
    "rad_dummy = pd.get_dummies(bins_rad, prefix='RAD', drop_first=True)\n",
    "boston_features = boston_features.drop(['RAD', 'TAX'], axis=1)\n",
    "boston_features = pd.concat([boston_features, rad_dummy, tax_dummy], axis=1)\n",
    "boston_features = boston_features.drop('NOX', axis=1)"
   ]
  },
  {
   "cell_type": "code",
   "execution_count": 2,
   "metadata": {},
   "outputs": [
    {
     "data": {
      "text/html": [
       "<div>\n",
       "<style scoped>\n",
       "    .dataframe tbody tr th:only-of-type {\n",
       "        vertical-align: middle;\n",
       "    }\n",
       "\n",
       "    .dataframe tbody tr th {\n",
       "        vertical-align: top;\n",
       "    }\n",
       "\n",
       "    .dataframe thead th {\n",
       "        text-align: right;\n",
       "    }\n",
       "</style>\n",
       "<table border=\"1\" class=\"dataframe\">\n",
       "  <thead>\n",
       "    <tr style=\"text-align: right;\">\n",
       "      <th></th>\n",
       "      <th>CRIM</th>\n",
       "      <th>ZN</th>\n",
       "      <th>INDUS</th>\n",
       "      <th>CHAS</th>\n",
       "      <th>RM</th>\n",
       "      <th>AGE</th>\n",
       "      <th>DIS</th>\n",
       "      <th>PTRATIO</th>\n",
       "      <th>B</th>\n",
       "      <th>LSTAT</th>\n",
       "      <th>RAD_(3, 4]</th>\n",
       "      <th>RAD_(4, 5]</th>\n",
       "      <th>RAD_(5, 24]</th>\n",
       "      <th>TAX_(250, 300]</th>\n",
       "      <th>TAX_(300, 360]</th>\n",
       "      <th>TAX_(360, 460]</th>\n",
       "      <th>TAX_(460, 712]</th>\n",
       "    </tr>\n",
       "  </thead>\n",
       "  <tbody>\n",
       "    <tr>\n",
       "      <td>0</td>\n",
       "      <td>0.00632</td>\n",
       "      <td>18.0</td>\n",
       "      <td>2.31</td>\n",
       "      <td>0.0</td>\n",
       "      <td>6.575</td>\n",
       "      <td>65.2</td>\n",
       "      <td>4.0900</td>\n",
       "      <td>15.3</td>\n",
       "      <td>396.90</td>\n",
       "      <td>4.98</td>\n",
       "      <td>0</td>\n",
       "      <td>0</td>\n",
       "      <td>0</td>\n",
       "      <td>1</td>\n",
       "      <td>0</td>\n",
       "      <td>0</td>\n",
       "      <td>0</td>\n",
       "    </tr>\n",
       "    <tr>\n",
       "      <td>1</td>\n",
       "      <td>0.02731</td>\n",
       "      <td>0.0</td>\n",
       "      <td>7.07</td>\n",
       "      <td>0.0</td>\n",
       "      <td>6.421</td>\n",
       "      <td>78.9</td>\n",
       "      <td>4.9671</td>\n",
       "      <td>17.8</td>\n",
       "      <td>396.90</td>\n",
       "      <td>9.14</td>\n",
       "      <td>0</td>\n",
       "      <td>0</td>\n",
       "      <td>0</td>\n",
       "      <td>0</td>\n",
       "      <td>0</td>\n",
       "      <td>0</td>\n",
       "      <td>0</td>\n",
       "    </tr>\n",
       "    <tr>\n",
       "      <td>2</td>\n",
       "      <td>0.02729</td>\n",
       "      <td>0.0</td>\n",
       "      <td>7.07</td>\n",
       "      <td>0.0</td>\n",
       "      <td>7.185</td>\n",
       "      <td>61.1</td>\n",
       "      <td>4.9671</td>\n",
       "      <td>17.8</td>\n",
       "      <td>392.83</td>\n",
       "      <td>4.03</td>\n",
       "      <td>0</td>\n",
       "      <td>0</td>\n",
       "      <td>0</td>\n",
       "      <td>0</td>\n",
       "      <td>0</td>\n",
       "      <td>0</td>\n",
       "      <td>0</td>\n",
       "    </tr>\n",
       "    <tr>\n",
       "      <td>3</td>\n",
       "      <td>0.03237</td>\n",
       "      <td>0.0</td>\n",
       "      <td>2.18</td>\n",
       "      <td>0.0</td>\n",
       "      <td>6.998</td>\n",
       "      <td>45.8</td>\n",
       "      <td>6.0622</td>\n",
       "      <td>18.7</td>\n",
       "      <td>394.63</td>\n",
       "      <td>2.94</td>\n",
       "      <td>0</td>\n",
       "      <td>0</td>\n",
       "      <td>0</td>\n",
       "      <td>0</td>\n",
       "      <td>0</td>\n",
       "      <td>0</td>\n",
       "      <td>0</td>\n",
       "    </tr>\n",
       "    <tr>\n",
       "      <td>4</td>\n",
       "      <td>0.06905</td>\n",
       "      <td>0.0</td>\n",
       "      <td>2.18</td>\n",
       "      <td>0.0</td>\n",
       "      <td>7.147</td>\n",
       "      <td>54.2</td>\n",
       "      <td>6.0622</td>\n",
       "      <td>18.7</td>\n",
       "      <td>396.90</td>\n",
       "      <td>5.33</td>\n",
       "      <td>0</td>\n",
       "      <td>0</td>\n",
       "      <td>0</td>\n",
       "      <td>0</td>\n",
       "      <td>0</td>\n",
       "      <td>0</td>\n",
       "      <td>0</td>\n",
       "    </tr>\n",
       "  </tbody>\n",
       "</table>\n",
       "</div>"
      ],
      "text/plain": [
       "      CRIM    ZN  INDUS  CHAS     RM   AGE     DIS  PTRATIO       B  LSTAT  \\\n",
       "0  0.00632  18.0   2.31   0.0  6.575  65.2  4.0900     15.3  396.90   4.98   \n",
       "1  0.02731   0.0   7.07   0.0  6.421  78.9  4.9671     17.8  396.90   9.14   \n",
       "2  0.02729   0.0   7.07   0.0  7.185  61.1  4.9671     17.8  392.83   4.03   \n",
       "3  0.03237   0.0   2.18   0.0  6.998  45.8  6.0622     18.7  394.63   2.94   \n",
       "4  0.06905   0.0   2.18   0.0  7.147  54.2  6.0622     18.7  396.90   5.33   \n",
       "\n",
       "   RAD_(3, 4]  RAD_(4, 5]  RAD_(5, 24]  TAX_(250, 300]  TAX_(300, 360]  \\\n",
       "0           0           0            0               1               0   \n",
       "1           0           0            0               0               0   \n",
       "2           0           0            0               0               0   \n",
       "3           0           0            0               0               0   \n",
       "4           0           0            0               0               0   \n",
       "\n",
       "   TAX_(360, 460]  TAX_(460, 712]  \n",
       "0               0               0  \n",
       "1               0               0  \n",
       "2               0               0  \n",
       "3               0               0  \n",
       "4               0               0  "
      ]
     },
     "execution_count": 2,
     "metadata": {},
     "output_type": "execute_result"
    }
   ],
   "source": [
    "boston_features.head()"
   ]
  },
  {
   "cell_type": "markdown",
   "metadata": {},
   "source": [
    "## Look at the histograms for the continuous variables"
   ]
  },
  {
   "cell_type": "code",
   "execution_count": 13,
   "metadata": {},
   "outputs": [
    {
     "data": {
      "image/png": "[encoded data removed]",
      "text/plain": [
       "<Figure size 864x576 with 9 Axes>"
      ]
     },
     "metadata": {
      "needs_background": "light"
     },
     "output_type": "display_data"
    }
   ],
   "source": [
    "# Your code here\n",
    "boston_features[['CRIM', 'ZN', 'INDUS', 'RM', 'AGE', 'DIS', 'PTRATIO', 'B', 'LSTAT']].hist(figsize = (12,8))\n",
    "plt.show()"
   ]
  },
  {
   "cell_type": "markdown",
   "metadata": {},
   "source": [
    "## Perform log transformations for the variables where it makes sense"
   ]
  },
  {
   "cell_type": "markdown",
   "metadata": {},
   "source": [
    "Analyze the results in terms of how they improved the normality performance. What is the problem with the `'ZN'` feature?  "
   ]
  },
  {
   "cell_type": "code",
   "execution_count": 14,
   "metadata": {},
   "outputs": [],
   "source": [
    "# Your code here\n",
    "import numpy as np"
   ]
  },
  {
   "cell_type": "code",
   "execution_count": 17,
   "metadata": {},
   "outputs": [],
   "source": [
    "# create new DataFrame\n",
    "data_log = pd.DataFrame([])\n",
    "\n",
    "cols = ['AGE', 'B', 'CRIM', 'DIS', 'INDUS', 'LSTAT', 'PTRATIO']\n",
    "\n",
    "for col in cols:\n",
    "    data_log[col] = np.log(boston_features[col])"
   ]
  },
  {
   "cell_type": "code",
   "execution_count": 18,
   "metadata": {
    "scrolled": true
   },
   "outputs": [
    {
     "data": {
      "text/html": [
       "<div>\n",
       "<style scoped>\n",
       "    .dataframe tbody tr th:only-of-type {\n",
       "        vertical-align: middle;\n",
       "    }\n",
       "\n",
       "    .dataframe tbody tr th {\n",
       "        vertical-align: top;\n",
       "    }\n",
       "\n",
       "    .dataframe thead th {\n",
       "        text-align: right;\n",
       "    }\n",
       "</style>\n",
       "<table border=\"1\" class=\"dataframe\">\n",
       "  <thead>\n",
       "    <tr style=\"text-align: right;\">\n",
       "      <th></th>\n",
       "      <th>AGE</th>\n",
       "      <th>B</th>\n",
       "      <th>CRIM</th>\n",
       "      <th>DIS</th>\n",
       "      <th>INDUS</th>\n",
       "      <th>LSTAT</th>\n",
       "      <th>PTRATIO</th>\n",
       "    </tr>\n",
       "  </thead>\n",
       "  <tbody>\n",
       "    <tr>\n",
       "      <td>0</td>\n",
       "      <td>4.177459</td>\n",
       "      <td>5.983684</td>\n",
       "      <td>-5.064036</td>\n",
       "      <td>1.408545</td>\n",
       "      <td>0.837248</td>\n",
       "      <td>1.605430</td>\n",
       "      <td>2.727853</td>\n",
       "    </tr>\n",
       "    <tr>\n",
       "      <td>1</td>\n",
       "      <td>4.368181</td>\n",
       "      <td>5.983684</td>\n",
       "      <td>-3.600502</td>\n",
       "      <td>1.602836</td>\n",
       "      <td>1.955860</td>\n",
       "      <td>2.212660</td>\n",
       "      <td>2.879198</td>\n",
       "    </tr>\n",
       "    <tr>\n",
       "      <td>2</td>\n",
       "      <td>4.112512</td>\n",
       "      <td>5.973377</td>\n",
       "      <td>-3.601235</td>\n",
       "      <td>1.602836</td>\n",
       "      <td>1.955860</td>\n",
       "      <td>1.393766</td>\n",
       "      <td>2.879198</td>\n",
       "    </tr>\n",
       "    <tr>\n",
       "      <td>3</td>\n",
       "      <td>3.824284</td>\n",
       "      <td>5.977949</td>\n",
       "      <td>-3.430523</td>\n",
       "      <td>1.802073</td>\n",
       "      <td>0.779325</td>\n",
       "      <td>1.078410</td>\n",
       "      <td>2.928524</td>\n",
       "    </tr>\n",
       "    <tr>\n",
       "      <td>4</td>\n",
       "      <td>3.992681</td>\n",
       "      <td>5.983684</td>\n",
       "      <td>-2.672924</td>\n",
       "      <td>1.802073</td>\n",
       "      <td>0.779325</td>\n",
       "      <td>1.673351</td>\n",
       "      <td>2.928524</td>\n",
       "    </tr>\n",
       "  </tbody>\n",
       "</table>\n",
       "</div>"
      ],
      "text/plain": [
       "        AGE         B      CRIM       DIS     INDUS     LSTAT   PTRATIO\n",
       "0  4.177459  5.983684 -5.064036  1.408545  0.837248  1.605430  2.727853\n",
       "1  4.368181  5.983684 -3.600502  1.602836  1.955860  2.212660  2.879198\n",
       "2  4.112512  5.973377 -3.601235  1.602836  1.955860  1.393766  2.879198\n",
       "3  3.824284  5.977949 -3.430523  1.802073  0.779325  1.078410  2.928524\n",
       "4  3.992681  5.983684 -2.672924  1.802073  0.779325  1.673351  2.928524"
      ]
     },
     "execution_count": 18,
     "metadata": {},
     "output_type": "execute_result"
    }
   ],
   "source": [
    "data_log.head()"
   ]
  },
  {
   "cell_type": "code",
   "execution_count": 20,
   "metadata": {},
   "outputs": [
    {
     "data": {
      "image/png": "[encoded data removed]",
      "text/plain": [
       "<Figure size 720x576 with 9 Axes>"
      ]
     },
     "metadata": {
      "needs_background": "light"
     },
     "output_type": "display_data"
    }
   ],
   "source": [
    "data_log.hist(figsize = (10,8))\n",
    "plt.show()"
   ]
  },
  {
   "cell_type": "markdown",
   "metadata": {},
   "source": [
    "`'ZN'` has a lot of zeros (more than 50%!). Remember that this variable denoted: \"proportion of residential land zoned for lots over 25,000 sq.ft.\". It might have made sense to categorize this variable to \"over 25,000 feet or not (binary variable 1/0). Now you have a zero-inflated variable which is cumbersome to work with."
   ]
  },
  {
   "cell_type": "code",
   "execution_count": 22,
   "metadata": {},
   "outputs": [
    {
     "data": {
      "text/plain": [
       "count    506.000000\n",
       "mean      11.363636\n",
       "std       23.322453\n",
       "min        0.000000\n",
       "25%        0.000000\n",
       "50%        0.000000\n",
       "75%       12.500000\n",
       "max      100.000000\n",
       "Name: ZN, dtype: float64"
      ]
     },
     "execution_count": 22,
     "metadata": {},
     "output_type": "execute_result"
    }
   ],
   "source": [
    "# Your code here\n",
    "boston_features['ZN'].describe()"
   ]
  },
  {
   "cell_type": "markdown",
   "metadata": {},
   "source": [
    "## Try different types of transformations on the continuous variables"
   ]
  },
  {
   "cell_type": "markdown",
   "metadata": {},
   "source": [
    "Store your final features in a DataFrame `features_final`: "
   ]
  },
  {
   "cell_type": "code",
   "execution_count": 24,
   "metadata": {},
   "outputs": [],
   "source": [
    "# No improvement using log\n",
    "age = boston_features['AGE']\n",
    "b = boston_features['B']\n",
    "ptratio = boston_features['PTRATIO']\n",
    "\n",
    "# Already normal\n",
    "rm = boston_features['RM']\n",
    "\n",
    "# Use log\n",
    "crim = data_log['CRIM']\n",
    "dis = data_log['DIS']\n",
    "indus = data_log['INDUS']\n",
    "lstat = data_log['LSTAT']"
   ]
  },
  {
   "cell_type": "code",
   "execution_count": 25,
   "metadata": {},
   "outputs": [],
   "source": [
    "# Create final features\n",
    "\n",
    "featuresfinal = pd.DataFrame([])\n",
    "\n",
    "#Mean normalization\n",
    "featuresfinal['AGE'] = (age - np.mean(age))/ (max(age) - min(age))\n",
    "featuresfinal['B'] = (b - np.mean(b))/ (max(b) - min(b))\n",
    "featuresfinal['PTRATIO'] = (ptratio - np.mean(ptratio))/ (max(ptratio) - min(ptratio))\n",
    "featuresfinal['RM'] = (rm - np.mean(rm))/ (max(rm) - min(rm))\n",
    "featuresfinal['CRIM'] = (crim - np.mean(crim))/ (max(crim) - min(crim))\n",
    "featuresfinal['DIS'] = (dis - np.mean(dis))/ (max(dis) - min(dis))\n",
    "featuresfinal['INDUS'] = (indus - np.mean(indus))/ (max(indus) - min(indus))\n",
    "featuresfinal['LSTAT'] = (lstat - np.mean(lstat))/ (max(lstat) - min(lstat))"
   ]
  },
  {
   "cell_type": "code",
   "execution_count": 26,
   "metadata": {
    "scrolled": true
   },
   "outputs": [
    {
     "data": {
      "text/html": [
       "<div>\n",
       "<style scoped>\n",
       "    .dataframe tbody tr th:only-of-type {\n",
       "        vertical-align: middle;\n",
       "    }\n",
       "\n",
       "    .dataframe tbody tr th {\n",
       "        vertical-align: top;\n",
       "    }\n",
       "\n",
       "    .dataframe thead th {\n",
       "        text-align: right;\n",
       "    }\n",
       "</style>\n",
       "<table border=\"1\" class=\"dataframe\">\n",
       "  <thead>\n",
       "    <tr style=\"text-align: right;\">\n",
       "      <th></th>\n",
       "      <th>AGE</th>\n",
       "      <th>B</th>\n",
       "      <th>PTRATIO</th>\n",
       "      <th>RM</th>\n",
       "      <th>CRIM</th>\n",
       "      <th>DIS</th>\n",
       "      <th>INDUS</th>\n",
       "      <th>LSTAT</th>\n",
       "    </tr>\n",
       "  </thead>\n",
       "  <tbody>\n",
       "    <tr>\n",
       "      <td>0</td>\n",
       "      <td>-0.034757</td>\n",
       "      <td>0.101432</td>\n",
       "      <td>-0.335695</td>\n",
       "      <td>0.055636</td>\n",
       "      <td>-0.448432</td>\n",
       "      <td>0.092905</td>\n",
       "      <td>-0.322716</td>\n",
       "      <td>-0.247852</td>\n",
       "    </tr>\n",
       "    <tr>\n",
       "      <td>1</td>\n",
       "      <td>0.106335</td>\n",
       "      <td>0.101432</td>\n",
       "      <td>-0.069738</td>\n",
       "      <td>0.026129</td>\n",
       "      <td>-0.295221</td>\n",
       "      <td>0.174762</td>\n",
       "      <td>-0.049844</td>\n",
       "      <td>-0.051253</td>\n",
       "    </tr>\n",
       "    <tr>\n",
       "      <td>2</td>\n",
       "      <td>-0.076981</td>\n",
       "      <td>0.091169</td>\n",
       "      <td>-0.069738</td>\n",
       "      <td>0.172517</td>\n",
       "      <td>-0.295297</td>\n",
       "      <td>0.174762</td>\n",
       "      <td>-0.049844</td>\n",
       "      <td>-0.316381</td>\n",
       "    </tr>\n",
       "    <tr>\n",
       "      <td>3</td>\n",
       "      <td>-0.234551</td>\n",
       "      <td>0.095708</td>\n",
       "      <td>0.026007</td>\n",
       "      <td>0.136686</td>\n",
       "      <td>-0.277426</td>\n",
       "      <td>0.258703</td>\n",
       "      <td>-0.336846</td>\n",
       "      <td>-0.418482</td>\n",
       "    </tr>\n",
       "    <tr>\n",
       "      <td>4</td>\n",
       "      <td>-0.148042</td>\n",
       "      <td>0.101432</td>\n",
       "      <td>0.026007</td>\n",
       "      <td>0.165236</td>\n",
       "      <td>-0.198116</td>\n",
       "      <td>0.258703</td>\n",
       "      <td>-0.336846</td>\n",
       "      <td>-0.225862</td>\n",
       "    </tr>\n",
       "  </tbody>\n",
       "</table>\n",
       "</div>"
      ],
      "text/plain": [
       "        AGE         B   PTRATIO        RM      CRIM       DIS     INDUS  \\\n",
       "0 -0.034757  0.101432 -0.335695  0.055636 -0.448432  0.092905 -0.322716   \n",
       "1  0.106335  0.101432 -0.069738  0.026129 -0.295221  0.174762 -0.049844   \n",
       "2 -0.076981  0.091169 -0.069738  0.172517 -0.295297  0.174762 -0.049844   \n",
       "3 -0.234551  0.095708  0.026007  0.136686 -0.277426  0.258703 -0.336846   \n",
       "4 -0.148042  0.101432  0.026007  0.165236 -0.198116  0.258703 -0.336846   \n",
       "\n",
       "      LSTAT  \n",
       "0 -0.247852  \n",
       "1 -0.051253  \n",
       "2 -0.316381  \n",
       "3 -0.418482  \n",
       "4 -0.225862  "
      ]
     },
     "execution_count": 26,
     "metadata": {},
     "output_type": "execute_result"
    }
   ],
   "source": [
    "featuresfinal.head()"
   ]
  },
  {
   "cell_type": "code",
   "execution_count": 28,
   "metadata": {},
   "outputs": [
    {
     "data": {
      "image/png": "[encoded data removed]",
      "text/plain": [
       "<Figure size 864x576 with 9 Axes>"
      ]
     },
     "metadata": {
      "needs_background": "light"
     },
     "output_type": "display_data"
    }
   ],
   "source": [
    "featuresfinal.hist(figsize = (12,8))\n",
    "plt.show()"
   ]
  },
  {
   "cell_type": "markdown",
   "metadata": {},
   "source": [
    "## Summary\n",
    "Great! You've now got some hands-on practice transforming data using log transforms, feature scaling, and normalization!"
   ]
  }
 ],
 "metadata": {
  "kernelspec": {
   "display_name": "Python 3",
   "language": "python",
   "name": "python3"
  },
  "language_info": {
   "codemirror_mode": {
    "name": "ipython",
    "version": 3
   },
   "file_extension": ".py",
   "mimetype": "text/x-python",
   "name": "python",
   "nbconvert_exporter": "python",
   "pygments_lexer": "ipython3",
   "version": "3.6.9"
  },
  "toc": {
   "base_numbering": 1,
   "nav_menu": {},
   "number_sections": true,
   "sideBar": true,
   "skip_h1_title": false,
   "title_cell": "Table of Contents",
   "title_sidebar": "Contents",
   "toc_cell": false,
   "toc_position": {},
   "toc_section_display": true,
   "toc_window_display": false
  }
 },
 "nbformat": 4,
 "nbformat_minor": 2
}
